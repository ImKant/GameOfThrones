{
 "cells": [
  {
   "cell_type": "code",
   "execution_count": null,
   "metadata": {
    "collapsed": true
   },
   "outputs": [],
   "source": [
    "#_*_ encoding=utf-8 _*_\n",
    "\n",
    "'''\n",
    "关注股票\n",
    "国金证券\n",
    "万向钱潮\n",
    "科大讯飞\n",
    "'''\n",
    "\n",
    "import tushare as ts\n",
    "import numpy as np\n",
    "data1 = ts.get_h_data('002230')\n",
    "print data1.head(100)\n",
    "''''\n",
    "ktype\n",
    "默认为D日线数据\n",
    "D=日k线 W=周 M=月\n",
    "5=5分钟 15=15分钟\n",
    "30=30分钟 60=60分钟\n",
    "'''\n",
    "data2 = ts.get_k_data('002230', ktype='W',autype='qfq')\n",
    "print data2.tail(100)"
   ]
  }
 ],
 "metadata": {
  "kernelspec": {
   "display_name": "Python 2",
   "language": "python",
   "name": "python2"
  },
  "language_info": {
   "codemirror_mode": {
    "name": "ipython",
    "version": 2
   },
   "file_extension": ".py",
   "mimetype": "text/x-python",
   "name": "python",
   "nbconvert_exporter": "python",
   "pygments_lexer": "ipython2",
   "version": "2.7.10"
  }
 },
 "nbformat": 4,
 "nbformat_minor": 1
}
